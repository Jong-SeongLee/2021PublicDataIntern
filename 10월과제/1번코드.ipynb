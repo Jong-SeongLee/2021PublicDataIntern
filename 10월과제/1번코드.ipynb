#Q1
import pandas as pd
import numpy as np
from matplotlib import pyplot as plt

excel_url='C:\\Users\\USER\\Desktop\\상시교육과제\\전공_파이썬데이터분석과제_이름_ID.xlsx' #경로설정

df=pd.read_excel(excel_url, sheet_name=2)
df['datetime']=df['확진일'].apply(lambda x:pd.to_datetime(str(x),format='%Y-%m-%d',errors='raise'))
df.set_index(df['datetime'],inplace=True)
df['count']=1

sorted_series=df.groupby(['지역',pd.Grouper(key='datetime',freq='W')])['count'].sum()
sorted_df=pd.DataFrame(sorted_series,columns=['count'])

from matplotlib import rc
import seaborn as sns
%matplotlib inline

rc('font',family='gulim')
plt.rcParams['axes.unicode_minus']=False
table=sorted_df.pivot_table(values='count',index='datetime',columns='지역',fill_value=0)

x_data=pd.date_range(min(df['datetime']),max(df['datetime']),freq='W')
ax=table.plot(figsize=(10,10))
ax.set_xticks(x_data)
